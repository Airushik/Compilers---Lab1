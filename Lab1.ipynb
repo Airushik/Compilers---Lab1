{
 "cells": [
  {
   "cell_type": "markdown",
   "id": "932b1abe",
   "metadata": {},
   "source": [
    "### Ввод регулярного выражения"
   ]
  },
  {
   "cell_type": "code",
   "execution_count": 54,
   "id": "77b3b72b",
   "metadata": {},
   "outputs": [],
   "source": [
    "regex = '(a|b)*abb'"
   ]
  },
  {
   "cell_type": "markdown",
   "id": "c5a695fa",
   "metadata": {},
   "source": [
    "### 1. Построение НКА"
   ]
  },
  {
   "cell_type": "code",
   "execution_count": 55,
   "id": "c5554ef3",
   "metadata": {},
   "outputs": [],
   "source": [
    "from mermaid import Mermaid\n",
    "operations = {'|','*','?'}"
   ]
  },
  {
   "cell_type": "markdown",
   "id": "867e04e1",
   "metadata": {},
   "source": [
    "#### Добавление явного символа для конкатенации"
   ]
  },
  {
   "cell_type": "code",
   "execution_count": 56,
   "id": "f63a506d",
   "metadata": {},
   "outputs": [
    {
     "name": "stdout",
     "output_type": "stream",
     "text": [
      "Регулярное выражение с операцией конкатенации: (a|b)*?a?b?b\n"
     ]
    }
   ],
   "source": [
    "refined_concat_regex = []\n",
    "for i in range(len(regex)):\n",
    "    refined_concat_regex.append(regex[i])\n",
    "    if i + 1 < len(regex):\n",
    "        if regex[i] not in {'|', '('} and regex[i + 1] not in {'|', '*', ')'}:\n",
    "            refined_concat_regex.append('?')\n",
    "\n",
    "refined_concat_regex = ''.join(refined_concat_regex)\n",
    "print('Регулярное выражение с операцией конкатенации: ' + refined_concat_regex) "
   ]
  },
  {
   "cell_type": "markdown",
   "id": "ce0cccf0",
   "metadata": {},
   "source": [
    "#### Запись в обратной нотации"
   ]
  },
  {
   "cell_type": "code",
   "execution_count": 57,
   "id": "b5b5041b",
   "metadata": {},
   "outputs": [
    {
     "name": "stdout",
     "output_type": "stream",
     "text": [
      "Регулярное выражение в обратной нотации: ab|*a?b?b?\n"
     ]
    }
   ],
   "source": [
    "priority = {'(':-1, '|':0, '?':1, '*':2}\n",
    "\n",
    "reversed_regex = list()\n",
    "stack = list()\n",
    "\n",
    "for symbol in refined_concat_regex:\n",
    "    if symbol in operations:\n",
    "        while len(stack) > 0 and priority[stack[-1]] >= priority[symbol]:\n",
    "            reversed_regex.append(stack.pop())\n",
    "        stack.append(symbol)\n",
    "    elif symbol == '(':\n",
    "        stack.append(symbol)\n",
    "    elif symbol == ')':\n",
    "        while len(stack) > 0 and stack[-1] != '(':\n",
    "            reversed_regex.append(stack.pop())\n",
    "        stack.pop()\n",
    "    else:\n",
    "        reversed_regex.append(symbol)\n",
    "        \n",
    "for i in range(len(stack)):\n",
    "    reversed_regex.append(stack.pop())\n",
    "        \n",
    "reversed_regex = ''.join(reversed_regex)\n",
    "print('Регулярное выражение в обратной нотации: ' + reversed_regex)"
   ]
  },
  {
   "cell_type": "markdown",
   "id": "7c3785b1",
   "metadata": {},
   "source": [
    "#### Формирование НКА"
   ]
  },
  {
   "cell_type": "code",
   "execution_count": 58,
   "id": "29f5abe8",
   "metadata": {},
   "outputs": [],
   "source": [
    "stack = list()\n",
    "q_table = list()\n",
    "q_counter = 0\n",
    "start_state = -1\n",
    "finish_state = -1\n",
    "\n",
    "for symbol in reversed_regex:\n",
    "    if symbol == '|':\n",
    "        right_sub_nfa = stack.pop()\n",
    "        left_sub_nfa = stack.pop()\n",
    "        q_counter += 1\n",
    "        q_table.append({\"start_state\":q_counter, \"final_state\": left_sub_nfa[0], \"symbol\":'ε'})\n",
    "        q_table.append({\"start_state\":q_counter, \"final_state\": right_sub_nfa[0], \"symbol\":'ε'})\n",
    "        q_table.append({\"start_state\":left_sub_nfa[1], \"final_state\": q_counter + 1, \"symbol\":'ε'})\n",
    "        q_table.append({\"start_state\":right_sub_nfa[1], \"final_state\": q_counter + 1, \"symbol\":'ε'})  \n",
    "        stack.append((q_counter, q_counter + 1))\n",
    "        start_state = q_counter\n",
    "        finish_state = q_counter + 1\n",
    "        q_counter += 1\n",
    "    elif symbol == '*':\n",
    "        sub_nfa = stack.pop()\n",
    "        q_counter += 1\n",
    "        q_table.append({\"start_state\":sub_nfa[1], \"final_state\": sub_nfa[0], \"symbol\":'ε'})\n",
    "        q_table.append({\"start_state\":sub_nfa[1], \"final_state\": q_counter + 1, \"symbol\":'ε'})\n",
    "        q_table.append({\"start_state\":q_counter, \"final_state\": sub_nfa[0], \"symbol\":'ε'})\n",
    "        q_table.append({\"start_state\":q_counter, \"final_state\": q_counter + 1, \"symbol\":'ε'})\n",
    "        stack.append((q_counter, q_counter + 1))\n",
    "        start_state = q_counter\n",
    "        finish_state = q_counter + 1\n",
    "        q_counter += 1\n",
    "    elif symbol == '?':\n",
    "        right_sub_nfa = stack.pop()\n",
    "        left_sub_nfa = stack.pop()\n",
    "        q_table.append({\"start_state\":left_sub_nfa[1], \"final_state\": right_sub_nfa[0], \"symbol\":'ε'})  \n",
    "        stack.append((left_sub_nfa[0], right_sub_nfa[1]))   \n",
    "        start_state = left_sub_nfa[0]\n",
    "        finish_state = right_sub_nfa[1]\n",
    "    else:\n",
    "        q_counter += 1\n",
    "        q_table.append({\"start_state\":q_counter, \"final_state\": q_counter + 1, \"symbol\":symbol})\n",
    "        stack.append((q_counter, q_counter + 1))\n",
    "        start_state = q_counter\n",
    "        finish_state = q_counter + 1\n",
    "        q_counter += 1"
   ]
  },
  {
   "cell_type": "code",
   "execution_count": 59,
   "id": "1e0614eb",
   "metadata": {},
   "outputs": [
    {
     "name": "stdout",
     "output_type": "stream",
     "text": [
      "Недетерминированный конечный автомат\n",
      "\n",
      "Набор состояний:\n",
      "1, 2, 3, 4, 5, 6, 7, 8, 9, 10, 11, 12, 13, 14\n",
      "\n",
      "Стартовое состояние: 7, Финальное состояние: 14\n",
      "\n",
      "Таблица переходов:\n",
      "Текущее состояние | Целевое состояние | Символ\n",
      "----------------------------------------------\n",
      "        1         |         2         |   a   \n",
      "----------------------------------------------\n",
      "        2         |         6         |   ε   \n",
      "----------------------------------------------\n",
      "        3         |         4         |   b   \n",
      "----------------------------------------------\n",
      "        4         |         6         |   ε   \n",
      "----------------------------------------------\n",
      "        5         |         1         |   ε   \n",
      "----------------------------------------------\n",
      "        5         |         3         |   ε   \n",
      "----------------------------------------------\n",
      "        6         |         5         |   ε   \n",
      "----------------------------------------------\n",
      "        6         |         8         |   ε   \n",
      "----------------------------------------------\n",
      "        7         |         5         |   ε   \n",
      "----------------------------------------------\n",
      "        7         |         8         |   ε   \n",
      "----------------------------------------------\n",
      "        8         |         9         |   ε   \n",
      "----------------------------------------------\n",
      "        9         |        10         |   a   \n",
      "----------------------------------------------\n",
      "        10        |        11         |   ε   \n",
      "----------------------------------------------\n",
      "        11        |        12         |   b   \n",
      "----------------------------------------------\n",
      "        12        |        13         |   ε   \n",
      "----------------------------------------------\n",
      "        13        |        14         |   b   \n"
     ]
    }
   ],
   "source": [
    "print('Недетерминированный конечный автомат')\n",
    "print('\\nНабор состояний:')\n",
    "print(', '.join(list(map(lambda x: str(x), set([rule['start_state'] for rule in q_table] + [rule['final_state'] for rule in q_table])))))\n",
    "\n",
    "print('\\nСтартовое состояние: {}, Финальное состояние: {}'.format(start_state, finish_state))\n",
    "\n",
    "q_table = sorted(q_table, key=lambda x: x['start_state'])\n",
    "print('\\nТаблица переходов:')\n",
    "print('Текущее состояние | Целевое состояние | Символ')\n",
    "for rule in q_table:\n",
    "    print('----------------------------------------------')\n",
    "    print('{:^18}|{:^19}|{:^7}'.format(rule['start_state'], rule['final_state'], rule['symbol']))"
   ]
  },
  {
   "cell_type": "code",
   "execution_count": 60,
   "id": "836469fa",
   "metadata": {},
   "outputs": [
    {
     "name": "stdout",
     "output_type": "stream",
     "text": [
      "\n",
      "Граф полученного НКА:\n"
     ]
    },
    {
     "data": {
      "text/html": [
       "\n",
       "        <div class=\"mermaid-5aa00017-ee32-412a-a776-4cd22ea69ba0\"></div>\n",
       "        <script type=\"module\">\n",
       "            import mermaid from 'https://cdn.jsdelivr.net/npm/mermaid@10.1.0/+esm'\n",
       "            const graphDefinition = 'graph LR\\n1((1)) -->|a|2((2))\\n2((2)) -->|ε|6((6))\\n3((3)) -->|b|4((4))\\n4((4)) -->|ε|6((6))\\n5((5)) -->|ε|1((1))\\n5((5)) -->|ε|3((3))\\n6((6)) -->|ε|5((5))\\n6((6)) -->|ε|8((8))\\n7((7)) -->|ε|5((5))\\n7((7)) -->|ε|8((8))\\n8((8)) -->|ε|9((9))\\n9((9)) -->|a|10((10))\\n10((10)) -->|ε|11((11))\\n11((11)) -->|b|12((12))\\n12((12)) -->|ε|13((13))\\n13((13)) -->|b|14(((14)))\\nstyle 7 fill:lime\\n';\n",
       "            const element = document.querySelector('.mermaid-5aa00017-ee32-412a-a776-4cd22ea69ba0');\n",
       "            const { svg } = await mermaid.render('graphDiv-5aa00017-ee32-412a-a776-4cd22ea69ba0', graphDefinition);\n",
       "            element.innerHTML = svg;\n",
       "        </script>\n",
       "        "
      ],
      "text/plain": [
       "<mermaid.mermaid.Mermaid at 0x25a0f2d6590>"
      ]
     },
     "execution_count": 60,
     "metadata": {},
     "output_type": "execute_result"
    }
   ],
   "source": [
    "graph = str()\n",
    "for rule in q_table.copy():\n",
    "    if rule['start_state'] == finish_state:\n",
    "        graph+='{}((({})))'.format(rule['start_state'], rule['start_state'])\n",
    "    else:\n",
    "        graph+='{}(({}))'.format(rule['start_state'], rule['start_state'])\n",
    "    graph+=' -->|{}|'.format(rule['symbol'])\n",
    "    if rule['final_state'] == finish_state:\n",
    "        graph+='{}((({})))\\n'.format(rule['final_state'], rule['final_state'])\n",
    "    else:\n",
    "        graph+='{}(({}))\\n'.format(rule['final_state'], rule['final_state'])\n",
    "graph+='style {} fill:lime\\n'.format(start_state)\n",
    "print('\\nГраф полученного НКА:')\n",
    "Mermaid(\"graph LR\\n\" + graph)"
   ]
  },
  {
   "cell_type": "markdown",
   "id": "d87b969b",
   "metadata": {},
   "source": [
    "### 2. Детерминизация (НКА -> ДКА)"
   ]
  },
  {
   "cell_type": "code",
   "execution_count": 61,
   "id": "c1ad6449",
   "metadata": {},
   "outputs": [],
   "source": [
    "def e_closure(Q):\n",
    "    result = Q\n",
    "    stack = list(Q)\n",
    "    while len(stack) > 0:\n",
    "        curr_state = stack.pop()\n",
    "        for u in set([rule['final_state'] for rule in q_table if rule['symbol'] == 'ε' and rule['start_state'] == curr_state]):\n",
    "            if u not in result:\n",
    "                result.add(u)\n",
    "                stack.append(u)\n",
    "    return result\n",
    "\n",
    "def move(Q, a):\n",
    "    a_closure_states = set([rule['final_state'] for rule in q_table if rule['symbol'] == a and rule['start_state'] in Q])\n",
    "    return a_closure_states\n",
    "\n",
    "def set_name(Q):\n",
    "    Q = list(Q)\n",
    "    name = '-'.join(list(map(lambda x: str(x), Q)))\n",
    "    return name"
   ]
  },
  {
   "cell_type": "markdown",
   "id": "dd2723f0",
   "metadata": {},
   "source": [
    "#### Детерминизация"
   ]
  },
  {
   "cell_type": "code",
   "execution_count": 62,
   "id": "7d6e116c",
   "metadata": {},
   "outputs": [],
   "source": [
    "symbols = set(rule['symbol'] for rule in q_table)\n",
    "symbols.remove('ε')\n",
    "\n",
    "d_q_table = []\n",
    "marked_states = [e_closure(set([start_state]))]\n",
    "queue = [set([start_state])]\n",
    "\n",
    "while len(queue) > 0:\n",
    "    curr_states = queue.pop()\n",
    "    curr_states = curr_states | e_closure(curr_states)\n",
    "    for symbol in symbols:\n",
    "        new_states = move(curr_states, symbol)  \n",
    "        if e_closure(new_states) not in marked_states:\n",
    "            queue.append(e_closure(new_states))\n",
    "            marked_states.append(new_states | e_closure(new_states))\n",
    "        if len(new_states) > 0:\n",
    "            d_q_table.append({'start_state':list(curr_states),'final_state':list(e_closure(new_states)), 'symbol':symbol})"
   ]
  },
  {
   "cell_type": "markdown",
   "id": "8c34fff2",
   "metadata": {},
   "source": [
    "#### Поиск начальных и терминальных состояний в новом КА"
   ]
  },
  {
   "cell_type": "code",
   "execution_count": 63,
   "id": "8899fb65",
   "metadata": {},
   "outputs": [],
   "source": [
    "d_start_states = list(filter(lambda x: start_state in x, marked_states))\n",
    "d_finish_states = list(filter(lambda x: finish_state in x, marked_states))"
   ]
  },
  {
   "cell_type": "code",
   "execution_count": 64,
   "id": "dd837886",
   "metadata": {},
   "outputs": [
    {
     "name": "stdout",
     "output_type": "stream",
     "text": [
      "Детерминированный конечный автомат\n",
      "\n",
      "Набор состояний:\n",
      "1-3-5-7-8-9, 1-2-3-5-6-8-9-10-11, 1-3-4-5-6-8-9, 1-3-4-5-6-8-9-12-13, 1-3-4-5-6-8-9-14\n",
      "\n",
      "Стартовое состояние: 1-3-5-7-8-9, Финальное состояние: 1-3-4-5-6-8-9-14\n",
      "\n",
      "Таблица переходов:\n",
      "      Текущее состояние       |      Целевое состояние       |Символ \n",
      "---------------------------------------------------------------------\n",
      "         1-3-5-7-8-9          |     1-2-3-5-6-8-9-10-11      |   a   \n",
      "---------------------------------------------------------------------\n",
      "         1-3-5-7-8-9          |        1-3-4-5-6-8-9         |   b   \n",
      "---------------------------------------------------------------------\n",
      "        1-3-4-5-6-8-9         |     1-2-3-5-6-8-9-10-11      |   a   \n",
      "---------------------------------------------------------------------\n",
      "        1-3-4-5-6-8-9         |        1-3-4-5-6-8-9         |   b   \n",
      "---------------------------------------------------------------------\n",
      "     1-2-3-5-6-8-9-10-11      |     1-2-3-5-6-8-9-10-11      |   a   \n",
      "---------------------------------------------------------------------\n",
      "     1-2-3-5-6-8-9-10-11      |     1-3-4-5-6-8-9-12-13      |   b   \n",
      "---------------------------------------------------------------------\n",
      "     1-3-4-5-6-8-9-12-13      |     1-2-3-5-6-8-9-10-11      |   a   \n",
      "---------------------------------------------------------------------\n",
      "     1-3-4-5-6-8-9-12-13      |       1-3-4-5-6-8-9-14       |   b   \n",
      "---------------------------------------------------------------------\n",
      "       1-3-4-5-6-8-9-14       |     1-2-3-5-6-8-9-10-11      |   a   \n",
      "---------------------------------------------------------------------\n",
      "       1-3-4-5-6-8-9-14       |        1-3-4-5-6-8-9         |   b   \n"
     ]
    }
   ],
   "source": [
    "print('Детерминированный конечный автомат')\n",
    "print('\\nНабор состояний:')\n",
    "print(', '.join([set_name(state) for state in marked_states.copy() if len(state)>0]))\n",
    "\n",
    "print('\\nСтартовое состояние: {}, Финальное состояние: {}'.format(', '.join([set_name(state) for state in d_start_states]), ', '.join([set_name(state) for state in d_finish_states])))\n",
    "\n",
    "print('\\nТаблица переходов:')\n",
    "print('{:^30}|{:^30}|{:^7}'.format('Текущее состояние', 'Целевое состояние', 'Символ'))\n",
    "for rule in d_q_table.copy():\n",
    "    print('-'*69)\n",
    "    print('{:^30}|{:^30}|{:^7}'.format(set_name(rule['start_state']), set_name(rule['final_state']), rule['symbol']))"
   ]
  },
  {
   "cell_type": "code",
   "execution_count": 65,
   "id": "c1ad8713",
   "metadata": {},
   "outputs": [
    {
     "name": "stdout",
     "output_type": "stream",
     "text": [
      "\n",
      "Граф полученного ДКА:\n"
     ]
    },
    {
     "data": {
      "text/html": [
       "\n",
       "        <div class=\"mermaid-cb6e387a-888a-413e-9f88-348e59c7459f\"></div>\n",
       "        <script type=\"module\">\n",
       "            import mermaid from 'https://cdn.jsdelivr.net/npm/mermaid@10.1.0/+esm'\n",
       "            const graphDefinition = 'graph LR\\n1-3-5-7-8-9((1-3-5-7-8-9)) -->|a|1-2-3-5-6-8-9-10-11((1-2-3-5-6-8-9-10-11))\\n1-3-5-7-8-9((1-3-5-7-8-9)) -->|b|1-3-4-5-6-8-9((1-3-4-5-6-8-9))\\n1-3-4-5-6-8-9((1-3-4-5-6-8-9)) -->|a|1-2-3-5-6-8-9-10-11((1-2-3-5-6-8-9-10-11))\\n1-3-4-5-6-8-9((1-3-4-5-6-8-9)) -->|b|1-3-4-5-6-8-9((1-3-4-5-6-8-9))\\n1-2-3-5-6-8-9-10-11((1-2-3-5-6-8-9-10-11)) -->|a|1-2-3-5-6-8-9-10-11((1-2-3-5-6-8-9-10-11))\\n1-2-3-5-6-8-9-10-11((1-2-3-5-6-8-9-10-11)) -->|b|1-3-4-5-6-8-9-12-13((1-3-4-5-6-8-9-12-13))\\n1-3-4-5-6-8-9-12-13((1-3-4-5-6-8-9-12-13)) -->|a|1-2-3-5-6-8-9-10-11((1-2-3-5-6-8-9-10-11))\\n1-3-4-5-6-8-9-12-13((1-3-4-5-6-8-9-12-13)) -->|b|1-3-4-5-6-8-9-14(((1-3-4-5-6-8-9-14)))\\n1-3-4-5-6-8-9-14(((1-3-4-5-6-8-9-14))) -->|a|1-2-3-5-6-8-9-10-11((1-2-3-5-6-8-9-10-11))\\n1-3-4-5-6-8-9-14(((1-3-4-5-6-8-9-14))) -->|b|1-3-4-5-6-8-9((1-3-4-5-6-8-9))\\nstyle 1-3-5-7-8-9 fill:lime\\n';\n",
       "            const element = document.querySelector('.mermaid-cb6e387a-888a-413e-9f88-348e59c7459f');\n",
       "            const { svg } = await mermaid.render('graphDiv-cb6e387a-888a-413e-9f88-348e59c7459f', graphDefinition);\n",
       "            element.innerHTML = svg;\n",
       "        </script>\n",
       "        "
      ],
      "text/plain": [
       "<mermaid.mermaid.Mermaid at 0x25a0f273250>"
      ]
     },
     "execution_count": 65,
     "metadata": {},
     "output_type": "execute_result"
    }
   ],
   "source": [
    "graph = str()\n",
    "for rule in d_q_table.copy():\n",
    "    if set(rule['start_state']) in d_finish_states:\n",
    "        graph+='{}((({})))'.format(set_name(rule['start_state']), set_name(rule['start_state']))\n",
    "    else:\n",
    "        graph+='{}(({}))'.format(set_name(rule['start_state']), set_name(rule['start_state']))\n",
    "    graph+=' -->|{}|'.format(rule['symbol'])\n",
    "    if set(rule['final_state']) in d_finish_states:\n",
    "        graph+='{}((({})))\\n'.format(set_name(rule['final_state']), set_name(rule['final_state']))\n",
    "    else:\n",
    "        graph+='{}(({}))\\n'.format(set_name(rule['final_state']), set_name(rule['final_state']))\n",
    "for d_start_state in d_start_states:\n",
    "    graph+='style {} fill:lime\\n'.format(set_name(d_start_state))\n",
    "    print('\\nГраф полученного ДКА:')\n",
    "Mermaid(\"graph LR\\n\" + graph)"
   ]
  },
  {
   "cell_type": "markdown",
   "id": "cf382e45",
   "metadata": {},
   "source": [
    "### 3. Минимизация ДКА"
   ]
  },
  {
   "cell_type": "markdown",
   "id": "29d4e303",
   "metadata": {},
   "source": [
    "#### Сопоставление новых состояний"
   ]
  },
  {
   "cell_type": "code",
   "execution_count": 66,
   "id": "215d025d",
   "metadata": {},
   "outputs": [],
   "source": [
    "d_q_states = dict()\n",
    "new_d_q_table = list()\n",
    "\n",
    "for i in range(len(marked_states)):\n",
    "    if len(marked_states[i]) > 0:\n",
    "        d_q_states[set_name(marked_states[i])] = i + 1\n",
    "\n",
    "new_d_start_states = [d_q_states[set_name(state)] for state in d_start_states]\n",
    "new_d_finish_states = [d_q_states[set_name(state)] for state in d_finish_states]\n",
    "\n",
    "for rule in d_q_table:\n",
    "    new_rule = dict()\n",
    "    new_rule['start_state'] = d_q_states[set_name(rule['start_state'])]\n",
    "    new_rule['final_state'] = d_q_states[set_name(rule['final_state'])]\n",
    "    new_rule['symbol'] = rule['symbol']\n",
    "    new_d_q_table.append(new_rule)"
   ]
  },
  {
   "cell_type": "code",
   "execution_count": 67,
   "id": "6458b44c",
   "metadata": {},
   "outputs": [
    {
     "name": "stdout",
     "output_type": "stream",
     "text": [
      "Детерминированный конечный автомат (с новой нумерацией состояний)\n",
      "\n",
      "Набор состояний:\n",
      "1, 2, 3, 4, 5\n",
      "\n",
      "Стартовое состояние: 1, Финальное состояние: 5\n",
      "\n",
      "Таблица переходов:\n",
      "      Текущее состояние       |      Целевое состояние       |Символ \n",
      "---------------------------------------------------------------------\n",
      "              1               |              2               |   a   \n",
      "---------------------------------------------------------------------\n",
      "              1               |              3               |   b   \n",
      "---------------------------------------------------------------------\n",
      "              3               |              2               |   a   \n",
      "---------------------------------------------------------------------\n",
      "              3               |              3               |   b   \n",
      "---------------------------------------------------------------------\n",
      "              2               |              2               |   a   \n",
      "---------------------------------------------------------------------\n",
      "              2               |              4               |   b   \n",
      "---------------------------------------------------------------------\n",
      "              4               |              2               |   a   \n",
      "---------------------------------------------------------------------\n",
      "              4               |              5               |   b   \n",
      "---------------------------------------------------------------------\n",
      "              5               |              2               |   a   \n",
      "---------------------------------------------------------------------\n",
      "              5               |              3               |   b   \n"
     ]
    }
   ],
   "source": [
    "print('Детерминированный конечный автомат (с новой нумерацией состояний)')\n",
    "print('\\nНабор состояний:')\n",
    "print(', '.join([str(state) for state in list(d_q_states.values())]))\n",
    "\n",
    "print('\\nСтартовое состояние: {}, Финальное состояние: {}'.format(', '.join([str(state) for state in new_d_start_states]), ', '.join([str(state) for state in new_d_finish_states])))\n",
    "\n",
    "print('\\nТаблица переходов:')\n",
    "print('{:^30}|{:^30}|{:^7}'.format('Текущее состояние', 'Целевое состояние', 'Символ'))\n",
    "for rule in new_d_q_table.copy():\n",
    "    print('-'*69)\n",
    "    print('{:^30}|{:^30}|{:^7}'.format(rule['start_state'], rule['final_state'], rule['symbol']))"
   ]
  },
  {
   "cell_type": "code",
   "execution_count": 68,
   "id": "a2f0b9ea",
   "metadata": {},
   "outputs": [
    {
     "name": "stdout",
     "output_type": "stream",
     "text": [
      "\n",
      "Граф полученного ДКА (с новой нумерацией):\n"
     ]
    },
    {
     "data": {
      "text/html": [
       "\n",
       "        <div class=\"mermaid-5972f72d-e2ab-4039-9b01-4ef66617297f\"></div>\n",
       "        <script type=\"module\">\n",
       "            import mermaid from 'https://cdn.jsdelivr.net/npm/mermaid@10.1.0/+esm'\n",
       "            const graphDefinition = 'graph LR\\n1((1)) -->|a|2((2))\\n1((1)) -->|b|3((3))\\n3((3)) -->|a|2((2))\\n3((3)) -->|b|3((3))\\n2((2)) -->|a|2((2))\\n2((2)) -->|b|4((4))\\n4((4)) -->|a|2((2))\\n4((4)) -->|b|5(((5)))\\n5(((5))) -->|a|2((2))\\n5(((5))) -->|b|3((3))\\nstyle 1 fill:lime\\n';\n",
       "            const element = document.querySelector('.mermaid-5972f72d-e2ab-4039-9b01-4ef66617297f');\n",
       "            const { svg } = await mermaid.render('graphDiv-5972f72d-e2ab-4039-9b01-4ef66617297f', graphDefinition);\n",
       "            element.innerHTML = svg;\n",
       "        </script>\n",
       "        "
      ],
      "text/plain": [
       "<mermaid.mermaid.Mermaid at 0x25a0f21b6d0>"
      ]
     },
     "execution_count": 68,
     "metadata": {},
     "output_type": "execute_result"
    }
   ],
   "source": [
    "graph = str()\n",
    "for rule in new_d_q_table.copy():\n",
    "    if rule['start_state'] in new_d_finish_states:\n",
    "        graph+='{}((({})))'.format(rule['start_state'], rule['start_state'])\n",
    "    else:\n",
    "        graph+='{}(({}))'.format(rule['start_state'], rule['start_state'])\n",
    "    graph+=' -->|{}|'.format(rule['symbol'])\n",
    "    if rule['final_state'] in new_d_finish_states:\n",
    "        graph+='{}((({})))\\n'.format(rule['final_state'], rule['final_state'])\n",
    "    else:\n",
    "        graph+='{}(({}))\\n'.format(rule['final_state'], rule['final_state'])\n",
    "for d_start_state in new_d_start_states:\n",
    "    graph+='style {} fill:lime\\n'.format(d_start_state)\n",
    "    print('\\nГраф полученного ДКА (с новой нумерацией):')\n",
    "Mermaid(\"graph LR\\n\" + graph)"
   ]
  },
  {
   "cell_type": "markdown",
   "id": "973f0ce9",
   "metadata": {},
   "source": [
    "#### Минимизация автомата"
   ]
  },
  {
   "cell_type": "code",
   "execution_count": 69,
   "id": "5e85027c",
   "metadata": {},
   "outputs": [],
   "source": [
    "def split(R, C, a):\n",
    "    R1 = set([rule['start_state'] for rule in new_d_q_table if rule['symbol'] == a and rule['final_state'] in C])\n",
    "    #print('!', R, R1, C, a)\n",
    "    R1 = R & R1\n",
    "    R2 = R-R1\n",
    "    return (R1, R2)"
   ]
  },
  {
   "cell_type": "code",
   "execution_count": 70,
   "id": "d644a743",
   "metadata": {},
   "outputs": [],
   "source": [
    "Q = set(d_q_states.values())\n",
    "S = list()\n",
    "F = set(new_d_finish_states)\n",
    "P = list()\n",
    "P.append(Q)\n",
    "P.append(Q-F)\n",
    "for symbol in symbols:\n",
    "    S.append((F, symbol))\n",
    "    S.append((Q-F, symbol))\n",
    "while len(S) > 0:\n",
    "    C, a = S.pop()\n",
    "    for R in P:\n",
    "        R1, R2 = split(R, C, a)\n",
    "        if len(R1) > 0 and len(R2) > 0:\n",
    "            P.remove(R)\n",
    "            P.append(R1)\n",
    "            P.append(R2)\n",
    "            for symbol in symbols:\n",
    "                S.append((R1, symbol))\n",
    "                S.append((R2, symbol))\n",
    "for state in P.copy():\n",
    "    for other_state in P.copy():\n",
    "        if len(state) > 0:\n",
    "            if state != other_state and state.issubset(other_state):\n",
    "                P.remove(other_state)\n",
    "                P.append(other_state-state)"
   ]
  },
  {
   "cell_type": "code",
   "execution_count": 71,
   "id": "dbc5d249",
   "metadata": {},
   "outputs": [],
   "source": [
    "min_states_eqv = dict()\n",
    "min_start_states = list()\n",
    "min_finish_states = list()\n",
    "\n",
    "for state in list(d_q_states.values()):\n",
    "    min_states_eqv[state] = [list(min_state) for min_state in P if state in min_state][0]\n",
    "    if state in new_d_start_states:\n",
    "        min_start_states.append(min_states_eqv[state])\n",
    "    if state in new_d_finish_states:\n",
    "        min_finish_states.append(min_states_eqv[state])\n",
    "\n",
    "\n",
    "min_table = list()\n",
    "\n",
    "for rule in new_d_q_table:\n",
    "    min_rule = {'start_state': set_name(min_states_eqv[rule['start_state']]), 'final_state': set_name(min_states_eqv[rule['final_state']]), 'symbol': rule['symbol']}\n",
    "    min_table.append(min_rule)\n",
    "         \n",
    "#просто доверься - это удаление дубоикатов правил перехода\n",
    "min_table = [{'start_state':tup[0], 'final_state':tup[1], 'symbol':tup[2]} for tup in set([tuple(rule.values()) for rule in min_table])]\n",
    "\n"
   ]
  },
  {
   "cell_type": "code",
   "execution_count": 72,
   "id": "8e74b829",
   "metadata": {},
   "outputs": [
    {
     "name": "stdout",
     "output_type": "stream",
     "text": [
      "Минимальный детерминированный конечный автомат\n",
      "\n",
      "Набор состояний:\n",
      "2, 4, 5, 1-3\n",
      "\n",
      "Стартовое состояние: 1-3, Финальное состояние: 5\n",
      "\n",
      "Таблица переходов:\n",
      "      Текущее состояние       |      Целевое состояние       |Символ \n",
      "---------------------------------------------------------------------\n",
      "             1-3              |             1-3              |   b   \n",
      "---------------------------------------------------------------------\n",
      "              2               |              4               |   b   \n",
      "---------------------------------------------------------------------\n",
      "              4               |              5               |   b   \n",
      "---------------------------------------------------------------------\n",
      "             1-3              |              2               |   a   \n",
      "---------------------------------------------------------------------\n",
      "              2               |              2               |   a   \n",
      "---------------------------------------------------------------------\n",
      "              5               |             1-3              |   b   \n",
      "---------------------------------------------------------------------\n",
      "              4               |              2               |   a   \n",
      "---------------------------------------------------------------------\n",
      "              5               |              2               |   a   \n"
     ]
    }
   ],
   "source": [
    "print('Минимальный детерминированный конечный автомат')\n",
    "print('\\nНабор состояний:')\n",
    "print(', '.join(set([set_name(state) for state in P.copy() if len(state) > 0])))\n",
    "\n",
    "print('\\nСтартовое состояние: {}, Финальное состояние: {}'.format(', '.join(set([set_name(state) for state in min_start_states])), ', '.join(set([set_name(state) for state in min_finish_states]))))\n",
    "\n",
    "print('\\nТаблица переходов:')\n",
    "print('{:^30}|{:^30}|{:^7}'.format('Текущее состояние', 'Целевое состояние', 'Символ'))\n",
    "for rule in min_table.copy():\n",
    "    print('-'*69)\n",
    "    print('{:^30}|{:^30}|{:^7}'.format(rule['start_state'], rule['final_state'], rule['symbol']))"
   ]
  },
  {
   "cell_type": "code",
   "execution_count": 73,
   "id": "8bbd078a",
   "metadata": {},
   "outputs": [
    {
     "name": "stdout",
     "output_type": "stream",
     "text": [
      "\n",
      "Граф полученного минимального ДКА:\n"
     ]
    },
    {
     "data": {
      "text/html": [
       "\n",
       "        <div class=\"mermaid-987327a3-a29f-4e09-8210-c00205bef290\"></div>\n",
       "        <script type=\"module\">\n",
       "            import mermaid from 'https://cdn.jsdelivr.net/npm/mermaid@10.1.0/+esm'\n",
       "            const graphDefinition = 'graph LR\\n1-3((1-3)) -->|b|1-3((1-3))\\n2((2)) -->|b|4((4))\\n4((4)) -->|b|5(((5)))\\n1-3((1-3)) -->|a|2((2))\\n2((2)) -->|a|2((2))\\n5(((5))) -->|b|1-3((1-3))\\n4((4)) -->|a|2((2))\\n5(((5))) -->|a|2((2))\\nstyle 1-3 fill:lime\\n';\n",
       "            const element = document.querySelector('.mermaid-987327a3-a29f-4e09-8210-c00205bef290');\n",
       "            const { svg } = await mermaid.render('graphDiv-987327a3-a29f-4e09-8210-c00205bef290', graphDefinition);\n",
       "            element.innerHTML = svg;\n",
       "        </script>\n",
       "        "
      ],
      "text/plain": [
       "<mermaid.mermaid.Mermaid at 0x25a0f218040>"
      ]
     },
     "execution_count": 73,
     "metadata": {},
     "output_type": "execute_result"
    }
   ],
   "source": [
    "graph = str()\n",
    "for rule in min_table.copy():\n",
    "    if rule['start_state'] in [set_name(fs) for fs in min_finish_states]:\n",
    "        graph+='{}((({})))'.format(rule['start_state'], rule['start_state'])\n",
    "    else:\n",
    "        graph+='{}(({}))'.format(rule['start_state'], rule['start_state'])\n",
    "    graph+=' -->|{}|'.format(rule['symbol'])\n",
    "    if rule['final_state'] in [set_name(fs) for fs in min_finish_states]:\n",
    "        graph+='{}((({})))\\n'.format(rule['final_state'], rule['final_state'])\n",
    "    else:\n",
    "        graph+='{}(({}))\\n'.format(rule['final_state'], rule['final_state'])\n",
    "for min_start_state in min_start_states:\n",
    "    graph+='style {} fill:lime\\n'.format(set_name(min_start_state))\n",
    "    print('\\nГраф полученного минимального ДКА:')\n",
    "Mermaid(\"graph LR\\n\" + graph)"
   ]
  },
  {
   "cell_type": "markdown",
   "id": "b298aaa5",
   "metadata": {},
   "source": [
    "### 4. Моделирование минимального ДКА"
   ]
  },
  {
   "cell_type": "markdown",
   "id": "c17d6179",
   "metadata": {},
   "source": [
    "#### Сопоставление новых состояний"
   ]
  },
  {
   "cell_type": "code",
   "execution_count": 74,
   "id": "5f3a1158",
   "metadata": {},
   "outputs": [],
   "source": [
    "new_min_states = dict()\n",
    "new_min_table = list()\n",
    "old_states = list(set([set_name(state) for state in P.copy() if len(state) > 0]))\n",
    "for i in range(len(old_states)):\n",
    "    new_min_states[old_states[i]] = i + 1\n",
    "\n",
    "new_min_start_states = [new_min_states[set_name(state)] for state in min_start_states]\n",
    "new_min_finish_states = [new_min_states[set_name(state)] for state in min_finish_states]\n",
    "\n",
    "for rule in min_table:\n",
    "    new_rule = dict()\n",
    "    new_rule['start_state'] = new_min_states[rule['start_state']]\n",
    "    new_rule['final_state'] = new_min_states[rule['final_state']]\n",
    "    new_rule['symbol'] = rule['symbol']\n",
    "    new_min_table.append(new_rule)"
   ]
  },
  {
   "cell_type": "code",
   "execution_count": 75,
   "id": "83dce723",
   "metadata": {},
   "outputs": [
    {
     "name": "stdout",
     "output_type": "stream",
     "text": [
      "Минимальный детерминированный конечный автомат (с новой нумерацией состояний)\n",
      "\n",
      "Набор состояний:\n",
      "1, 2, 3, 4\n",
      "\n",
      "Стартовое состояние: 4, Финальное состояние: 3\n",
      "\n",
      "Таблица переходов:\n",
      "      Текущее состояние       |      Целевое состояние       |Символ \n",
      "---------------------------------------------------------------------\n",
      "              4               |              4               |   b   \n",
      "---------------------------------------------------------------------\n",
      "              1               |              2               |   b   \n",
      "---------------------------------------------------------------------\n",
      "              2               |              3               |   b   \n",
      "---------------------------------------------------------------------\n",
      "              4               |              1               |   a   \n",
      "---------------------------------------------------------------------\n",
      "              1               |              1               |   a   \n",
      "---------------------------------------------------------------------\n",
      "              3               |              4               |   b   \n",
      "---------------------------------------------------------------------\n",
      "              2               |              1               |   a   \n",
      "---------------------------------------------------------------------\n",
      "              3               |              1               |   a   \n"
     ]
    }
   ],
   "source": [
    "print('Минимальный детерминированный конечный автомат (с новой нумерацией состояний)')\n",
    "print('\\nНабор состояний:')\n",
    "print(', '.join([str(state) for state in list(new_min_states.values())]))\n",
    "\n",
    "print('\\nСтартовое состояние: {}, Финальное состояние: {}'.format(', '.join([str(state) for state in new_min_start_states]), ', '.join(set([str(state) for state in new_min_finish_states]))))\n",
    "\n",
    "print('\\nТаблица переходов:')\n",
    "print('{:^30}|{:^30}|{:^7}'.format('Текущее состояние', 'Целевое состояние', 'Символ'))\n",
    "for rule in new_min_table.copy():\n",
    "    print('-'*69)\n",
    "    print('{:^30}|{:^30}|{:^7}'.format(rule['start_state'], rule['final_state'], rule['symbol']))"
   ]
  },
  {
   "cell_type": "code",
   "execution_count": 76,
   "id": "71ca4d3a",
   "metadata": {},
   "outputs": [
    {
     "name": "stdout",
     "output_type": "stream",
     "text": [
      "\n",
      "Граф полученного ДКА (с новой нумерацией):\n"
     ]
    },
    {
     "data": {
      "text/html": [
       "\n",
       "        <div class=\"mermaid-b1a28495-2b23-4f11-9ae3-0e6b83c61a8f\"></div>\n",
       "        <script type=\"module\">\n",
       "            import mermaid from 'https://cdn.jsdelivr.net/npm/mermaid@10.1.0/+esm'\n",
       "            const graphDefinition = 'graph LR\\n4((4)) -->|b|4((4))\\n1((1)) -->|b|2((2))\\n2((2)) -->|b|3(((3)))\\n4((4)) -->|a|1((1))\\n1((1)) -->|a|1((1))\\n3(((3))) -->|b|4((4))\\n2((2)) -->|a|1((1))\\n3(((3))) -->|a|1((1))\\nstyle 4 fill:lime\\n';\n",
       "            const element = document.querySelector('.mermaid-b1a28495-2b23-4f11-9ae3-0e6b83c61a8f');\n",
       "            const { svg } = await mermaid.render('graphDiv-b1a28495-2b23-4f11-9ae3-0e6b83c61a8f', graphDefinition);\n",
       "            element.innerHTML = svg;\n",
       "        </script>\n",
       "        "
      ],
      "text/plain": [
       "<mermaid.mermaid.Mermaid at 0x25a0f271e70>"
      ]
     },
     "execution_count": 76,
     "metadata": {},
     "output_type": "execute_result"
    }
   ],
   "source": [
    "graph = str()\n",
    "for rule in new_min_table.copy():\n",
    "    if rule['start_state'] in new_min_finish_states:\n",
    "        graph+='{}((({})))'.format(rule['start_state'], rule['start_state'])\n",
    "    else:\n",
    "        graph+='{}(({}))'.format(rule['start_state'], rule['start_state'])\n",
    "    graph+=' -->|{}|'.format(rule['symbol'])\n",
    "    if rule['final_state'] in new_min_finish_states:\n",
    "        graph+='{}((({})))\\n'.format(rule['final_state'], rule['final_state'])\n",
    "    else:\n",
    "        graph+='{}(({}))\\n'.format(rule['final_state'], rule['final_state'])\n",
    "for d_start_state in new_d_start_states:\n",
    "    graph+='style {} fill:lime\\n'.format(new_min_start_states[0])\n",
    "print('\\nГраф полученного ДКА (с новой нумерацией):')\n",
    "Mermaid(\"graph LR\\n\" + graph)"
   ]
  },
  {
   "cell_type": "markdown",
   "id": "a6b0f7f3",
   "metadata": {},
   "source": [
    "#### Моделирование полученного КА"
   ]
  },
  {
   "cell_type": "code",
   "execution_count": 89,
   "id": "6b1d84d1",
   "metadata": {},
   "outputs": [],
   "source": [
    "input_string = 'ab'"
   ]
  },
  {
   "cell_type": "code",
   "execution_count": 90,
   "id": "dae2049a",
   "metadata": {},
   "outputs": [],
   "source": [
    "model_table = dict()\n",
    "\n",
    "for rule in new_min_table:\n",
    "    if rule['start_state'] in list(model_table.keys()):\n",
    "        model_table[rule['start_state']][rule['symbol']] = rule['final_state']\n",
    "    else:\n",
    "        model_table[rule['start_state']] = {rule['symbol']:rule['final_state']}"
   ]
  },
  {
   "cell_type": "code",
   "execution_count": 91,
   "id": "0faf50ca",
   "metadata": {},
   "outputs": [
    {
     "name": "stdout",
     "output_type": "stream",
     "text": [
      "Текущее состояние: 4\n",
      "Полученный символ из введенной строки: a\n",
      "Переход в состояние 1\n",
      "Текущее состояние: 1\n",
      "Полученный символ из введенной строки: b\n",
      "Переход в состояние 2\n",
      "Состояние автомата не конечное\n",
      "Полученный автомат не распознает слово ab\n"
     ]
    }
   ],
   "source": [
    "available_states = set(model_table.keys())\n",
    "current_state = new_min_start_states[0]\n",
    "isOk = True\n",
    "for char in input_string:\n",
    "    print('Текущее состояние: {}\\nПолученный символ из введенной строки: {}'.format(current_state, char))\n",
    "    if current_state in available_states and char in list(model_table[current_state].keys()):\n",
    "        current_state = model_table[current_state][char]\n",
    "        print('Переход в состояние {}'.format(current_state))\n",
    "    else:\n",
    "        isOk = False\n",
    "        print('Нет правила перехода из {} по {}'.format(current_state, char))\n",
    "        break\n",
    "if current_state not in new_min_finish_states:\n",
    "    print('Состояние автомата не конечное')\n",
    "    isOk = False\n",
    "\n",
    "if isOk:\n",
    "    print('Полученный автомат распознает слово {}'.format(input_string))\n",
    "else:\n",
    "    print('Полученный автомат не распознает слово {}'.format(input_string))\n",
    "\n"
   ]
  },
  {
   "cell_type": "code",
   "execution_count": null,
   "id": "adc11139",
   "metadata": {},
   "outputs": [],
   "source": []
  },
  {
   "cell_type": "code",
   "execution_count": null,
   "id": "799fec6c",
   "metadata": {},
   "outputs": [],
   "source": []
  }
 ],
 "metadata": {
  "kernelspec": {
   "display_name": "Python 3 (ipykernel)",
   "language": "python",
   "name": "python3"
  },
  "language_info": {
   "codemirror_mode": {
    "name": "ipython",
    "version": 3
   },
   "file_extension": ".py",
   "mimetype": "text/x-python",
   "name": "python",
   "nbconvert_exporter": "python",
   "pygments_lexer": "ipython3",
   "version": "3.10.4"
  }
 },
 "nbformat": 4,
 "nbformat_minor": 5
}
